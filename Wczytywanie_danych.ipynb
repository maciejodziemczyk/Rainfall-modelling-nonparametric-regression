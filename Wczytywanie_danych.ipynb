{
 "cells": [
  {
   "cell_type": "code",
   "execution_count": 58,
   "metadata": {},
   "outputs": [],
   "source": [
    "import pandas as pd\n",
    "import os"
   ]
  },
  {
   "cell_type": "code",
   "execution_count": 2,
   "metadata": {},
   "outputs": [],
   "source": [
    "# żeby było widać wszystkie kolumny w df\n",
    "pd.set_option('display.max_columns', 60)"
   ]
  },
  {
   "cell_type": "code",
   "execution_count": 36,
   "metadata": {},
   "outputs": [],
   "source": [
    "# lista nazw pozyskana z excela\n",
    "nazwy = ['Kod stacji', 'Nazwa stacji', 'Rok', 'Miesiąc', 'Absolutna temperatura maksymalna [°C]', 'Status pomiaru TMAX',\n",
    "         'Średnia temperatura maksymalna [°C]', 'Status pomiaru TMXS', 'Absolutna temperatura minimalna [°C]',\n",
    "         'Status pomiaru TMIN', 'Średnia temperatura minimalna [°C]', 'Status pomiaru TMNS',\n",
    "         'Średnia temperatura miesięczna [°C]', 'Status pomiaru STM', 'Minimalna temperatura przy gruncie [°C]',\n",
    "         'Status pomiaru TMNG', 'Miesięczna suma opadów [mm]', 'Status pomiaru SUMM', 'Maksymalna dobowa suma opadów',\n",
    "         'Status pomiaru OPMX', 'Pierwszy dzień wystąpienia opadu maksymalnego',\n",
    "         'Ostatni dzień wystąpienia opadu maksymalnego', 'Miesięczna suma usłonecznienia', 'Status pomiaru SUUS',\n",
    "         'Maksymalna wysokość pokrywy śnieżnej [cm]', 'Status pomiaru PKSN', 'Liczba dni z pokrywą śnieżną',\n",
    "         'Status pomiaru PSDN', 'Liczba dni z opadem deszczu', 'Status pomiaru DESD', 'Liczba dni z opadem śniegu',\n",
    "         'Status pomiaru SNID', 'Liczba dni z opadem deszczu ze śniegiem', 'Status pomiaru DSND', 'Liczba dni z gradem',\n",
    "         'Status pomiaru GRDD', 'Liczba dni z mgłą', 'Status pomiaru MGLD', 'Liczba dni z zamgleniem',\n",
    "         'Status pomiaru ZAMD', 'Liczba dni z sadzią', 'Status pomiaru SADD', 'Liczba dni z gołoledzią',\n",
    "         'Status pomiaru GOLD', 'Liczba dni z zamiecią śnieżną niską', 'Status pomiaru ZAND',\n",
    "         'Liczba dni z zamiecią śnieżną wysoką', 'Status pomiaru ZAWD', 'Liczba dni ze zmętnieniem', 'Status pomiaru ZMED',\n",
    "         'Liczba dni z wiatrem >= 10m/s', 'Status pomiaru W10D', 'Liczba dni z wiatrem >15m/s', 'Status pomiaru W15D',\n",
    "         'Liczba dni z burzą', 'Status pomiaru BURD', 'Liczba dni z rosą', 'Status pomiaru ROSD', 'Liczba dni ze szronem',\n",
    "         'Status pomiaru SZRD']\n",
    "\n",
    "# wczytanie pierwszego pliku\n",
    "dane = pd.read_csv(\"s_m_d_1960_1965.csv\", encoding=\"ISO-8859-1\", names=nazwy)\n",
    "\n",
    "# wczytanie pozostałych plików\n",
    "for filename in os.listdir():\n",
    "    if filename.endswith(\".csv\") and \"s_m_d_\" in filename and not \"s_m_d_1960_1965\" in filename: \n",
    "        dane = dane.append(pd.read_csv(filename, encoding=\"ISO-8859-1\", names=nazwy), ignore_index=True)\n",
    "\n",
    "# wybranie nazw tylko zmiennych, które mnie interesują\n",
    "nazwy_ok = [nazwa for nazwa in nazwy if not \"Status pomiaru\" in nazwa]\n",
    "\n",
    "# pozostawienie tylko istotnych kolumn\n",
    "dane = dane.loc[:,nazwy_ok]"
   ]
  },
  {
   "cell_type": "code",
   "execution_count": 81,
   "metadata": {},
   "outputs": [],
   "source": [
    "# uproszczenie nazw\n",
    "nazwy_ang = ['station_code', 'station_name', 'year', 'month',\n",
    "       'absolute_max_temp',\n",
    "       'average_max_temp',\n",
    "       'absolute_min_temp',\n",
    "       'average_min_temp',\n",
    "       'average_month_temp',\n",
    "       'min_floor_temp',\n",
    "       'monthly_rainfall_sum_mm', 'max_daily_rainfall_sum',\n",
    "       'first_day_of_max_rainfall',\n",
    "       'last_day_of_max_rainfall',\n",
    "       'monthly_sunhours_sum',\n",
    "       'max_snow_cover',\n",
    "       'num_of_days_snow_cover', 'num_of_days_rainfall',\n",
    "       'num_of_days_snowing', 'num_of_days_rainfall_snowing',\n",
    "       'num_of_days_hail', 'num_of_days_fog', 'num_of_days_blurring',\n",
    "       'num_of_days_rime', 'num_of_days_glaze',\n",
    "       'num_of_days_low_blizzard',\n",
    "       'num_of_days_high_blizzard', 'num_of_days_zmetnienie_XD',\n",
    "       'num_of_days_plus_10m_s', 'num_of_days_plus_15m_s',\n",
    "       'num_of_days_storm', 'num_of_days_dew', 'num_of_days_hoarfrost']\n",
    "\n",
    "'''\n",
    "oryginalne nazwy:\n",
    "['Kod stacji', 'Nazwa stacji', 'Rok', 'Miesiąc',\n",
    "       'Absolutna temperatura maksymalna [°C]',\n",
    "       'Średnia temperatura maksymalna [°C]',\n",
    "       'Absolutna temperatura minimalna [°C]',\n",
    "       'Średnia temperatura minimalna [°C]',\n",
    "       'Średnia temperatura miesięczna [°C]',\n",
    "       'Minimalna temperatura przy gruncie [°C]',\n",
    "       'Miesięczna suma opadów [mm]', 'Maksymalna dobowa suma opadów',\n",
    "       'Pierwszy dzień wystąpienia opadu maksymalnego',\n",
    "       'Ostatni dzień wystąpienia opadu maksymalnego',\n",
    "       'Miesięczna suma usłonecznienia',\n",
    "       'Maksymalna wysokość pokrywy śnieżnej [cm]',\n",
    "       'Liczba dni z pokrywą śnieżną', 'Liczba dni z opadem deszczu',\n",
    "       'Liczba dni z opadem śniegu', 'Liczba dni z opadem deszczu ze śniegiem',\n",
    "       'Liczba dni z gradem', 'Liczba dni z mgłą', 'Liczba dni z zamgleniem',\n",
    "       'Liczba dni z sadzią', 'Liczba dni z gołoledzią',\n",
    "       'Liczba dni z zamiecią śnieżną niską',\n",
    "       'Liczba dni z zamiecią śnieżną wysoką', 'Liczba dni ze zmętnieniem',\n",
    "       'Liczba dni z wiatrem >= 10m/s', 'Liczba dni z wiatrem >15m/s',\n",
    "       'Liczba dni z burzą', 'Liczba dni z rosą', 'Liczba dni ze szronem']\n",
    "'''"
   ]
  },
  {
   "cell_type": "code",
   "execution_count": 84,
   "metadata": {},
   "outputs": [],
   "source": [
    "# zmiana nazw kolumn\n",
    "dane.columns = nazwy_ang"
   ]
  },
  {
   "cell_type": "code",
   "execution_count": 86,
   "metadata": {},
   "outputs": [],
   "source": [
    "# zapis pliku do csv\n",
    "dane.to_csv(\"dane_pogodowe.csv\", encoding=\"utf-8\")"
   ]
  }
 ],
 "metadata": {
  "kernelspec": {
   "display_name": "Python 3",
   "language": "python",
   "name": "python3"
  },
  "language_info": {
   "codemirror_mode": {
    "name": "ipython",
    "version": 3
   },
   "file_extension": ".py",
   "mimetype": "text/x-python",
   "name": "python",
   "nbconvert_exporter": "python",
   "pygments_lexer": "ipython3",
   "version": "3.7.6"
  }
 },
 "nbformat": 4,
 "nbformat_minor": 4
}
